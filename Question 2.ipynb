{
 "cells": [
  {
   "cell_type": "markdown",
   "id": "b0403c2f",
   "metadata": {},
   "source": [
    "# **Question 2 : Estimating Age of Universe using Hubble's Law**\n",
    "\n",
    "In this problem, we will use Hubble's Law on a large number of galaxies, and fit the data to a linear model to find the value of the Hubble Constant, which we will use to calculate the current age of the universe.\n",
    "\n",
    "You can learn more about Hubble's Law, a very important principle of cosmology and expansion of Universe over here - https://simple.m.wikipedia.org/wiki/Hubble%27s_law \n",
    "\n",
    "Step 0: Importing libraries\n",
    "\n",
    "Dump all the required libraries, and define any necessary constants in the code box below.\n",
    "\n",
    "You will require the optimize module of scipy library, so be sure to include a line saying `from scipy.optimize import curve_fit`."
   ]
  },
  {
   "cell_type": "code",
   "execution_count": 48,
   "id": "698f1dd8",
   "metadata": {},
   "outputs": [],
   "source": [
    "#import libraries and define constants\n",
    "\n",
    "import pandas as pd\n",
    "import numpy as np\n",
    "from scipy.optimize import curve_fit as cf\n",
    "import matplotlib.pyplot as plt\n",
    "\n",
    "factor = 3\n",
    "dm = 20"
   ]
  },
  {
   "cell_type": "markdown",
   "id": "6ed186a1",
   "metadata": {},
   "source": [
    "Step 2: Loading the data\n",
    "\n",
    "Open the file \"data.txt\" and store it in array(s). First row contains the distance modulus (https://en.m.wikipedia.org/wiki/Distance_modulus) of the galaxy from earth, second row contains the line of sight velocity in km/s.\n",
    "\n",
    "To convert distance modulus to distance in Megaparsecs (the unit we will be using in the rest of the question), use the formula:\n",
    "\n",
    "$d = 10^{\\left(\\frac{d_{dist mod}}{5} - 5\\right)}$\n",
    "\n",
    "where $d$ is in megaparsecs (Mpc)."
   ]
  },
  {
   "cell_type": "code",
   "execution_count": 49,
   "id": "d0505dd2",
   "metadata": {},
   "outputs": [
    {
     "data": {
      "text/html": [
       "<div>\n",
       "<style scoped>\n",
       "    .dataframe tbody tr th:only-of-type {\n",
       "        vertical-align: middle;\n",
       "    }\n",
       "\n",
       "    .dataframe tbody tr th {\n",
       "        vertical-align: top;\n",
       "    }\n",
       "\n",
       "    .dataframe thead th {\n",
       "        text-align: right;\n",
       "    }\n",
       "</style>\n",
       "<table border=\"1\" class=\"dataframe\">\n",
       "  <thead>\n",
       "    <tr style=\"text-align: right;\">\n",
       "      <th></th>\n",
       "      <th>mod0</th>\n",
       "      <th>vgsr</th>\n",
       "      <th>Distance(Mpc)</th>\n",
       "    </tr>\n",
       "  </thead>\n",
       "  <tbody>\n",
       "    <tr>\n",
       "      <th>0</th>\n",
       "      <td>36.65</td>\n",
       "      <td>15080</td>\n",
       "      <td>213.796209</td>\n",
       "    </tr>\n",
       "    <tr>\n",
       "      <th>1</th>\n",
       "      <td>37.29</td>\n",
       "      <td>18221</td>\n",
       "      <td>287.078058</td>\n",
       "    </tr>\n",
       "    <tr>\n",
       "      <th>2</th>\n",
       "      <td>33.75</td>\n",
       "      <td>3129</td>\n",
       "      <td>56.234133</td>\n",
       "    </tr>\n",
       "    <tr>\n",
       "      <th>3</th>\n",
       "      <td>32.66</td>\n",
       "      <td>4486</td>\n",
       "      <td>34.040819</td>\n",
       "    </tr>\n",
       "    <tr>\n",
       "      <th>4</th>\n",
       "      <td>33.37</td>\n",
       "      <td>4564</td>\n",
       "      <td>47.206304</td>\n",
       "    </tr>\n",
       "    <tr>\n",
       "      <th>...</th>\n",
       "      <td>...</td>\n",
       "      <td>...</td>\n",
       "      <td>...</td>\n",
       "    </tr>\n",
       "    <tr>\n",
       "      <th>4059</th>\n",
       "      <td>34.09</td>\n",
       "      <td>4843</td>\n",
       "      <td>65.765784</td>\n",
       "    </tr>\n",
       "    <tr>\n",
       "      <th>4060</th>\n",
       "      <td>37.62</td>\n",
       "      <td>23832</td>\n",
       "      <td>334.195040</td>\n",
       "    </tr>\n",
       "    <tr>\n",
       "      <th>4061</th>\n",
       "      <td>36.06</td>\n",
       "      <td>11410</td>\n",
       "      <td>162.929603</td>\n",
       "    </tr>\n",
       "    <tr>\n",
       "      <th>4062</th>\n",
       "      <td>35.96</td>\n",
       "      <td>9105</td>\n",
       "      <td>155.596563</td>\n",
       "    </tr>\n",
       "    <tr>\n",
       "      <th>4063</th>\n",
       "      <td>34.96</td>\n",
       "      <td>7952</td>\n",
       "      <td>98.174794</td>\n",
       "    </tr>\n",
       "  </tbody>\n",
       "</table>\n",
       "<p>4064 rows × 3 columns</p>\n",
       "</div>"
      ],
      "text/plain": [
       "       mod0   vgsr  Distance(Mpc)\n",
       "0     36.65  15080     213.796209\n",
       "1     37.29  18221     287.078058\n",
       "2     33.75   3129      56.234133\n",
       "3     32.66   4486      34.040819\n",
       "4     33.37   4564      47.206304\n",
       "...     ...    ...            ...\n",
       "4059  34.09   4843      65.765784\n",
       "4060  37.62  23832     334.195040\n",
       "4061  36.06  11410     162.929603\n",
       "4062  35.96   9105     155.596563\n",
       "4063  34.96   7952      98.174794\n",
       "\n",
       "[4064 rows x 3 columns]"
      ]
     },
     "execution_count": 49,
     "metadata": {},
     "output_type": "execute_result"
    }
   ],
   "source": [
    "#Load data and convert it to useable form\n",
    "\n",
    "file_path = r'C:\\Users\\91987\\hello\\data.txt'\n",
    "\n",
    "hl = pd.read_csv(file_path)\n",
    "\n",
    "hl['Distance(Mpc)'] = 10**(-5 + (hl['mod0']/5))\n",
    "\n",
    "hl"
   ]
  },
  {
   "cell_type": "markdown",
   "id": "9bbaf660",
   "metadata": {},
   "source": [
    "Step 3: Preliminary Data Visualization\n",
    "\n",
    "Create a function taking the distance to the galaxy, and a slope and an intercept parameter as input, returning recession velocity of that galaxy as output. A code snippet showing how to use curve_fit to find the optimum slope and intercept is shown here - https://github.com/krittikaiitb/tutorials/blob/master/Tutorial_07/SciPy1.ipynb \n",
    "\n",
    "Create a scatter plot of the line of sight velocity of the galaxies (in km/s) vs the distance to the galaxies (in Mpc). Also plot the model you just fit in the same graph."
   ]
  },
  {
   "cell_type": "code",
   "execution_count": 50,
   "id": "600e0f07",
   "metadata": {},
   "outputs": [
    {
     "data": {
      "image/png": "[encoded data removed]",
      "text/plain": [
       "<Figure size 432x288 with 1 Axes>"
      ]
     },
     "metadata": {
      "needs_background": "light"
     },
     "output_type": "display_data"
    }
   ],
   "source": [
    "#Create a best fit model and plot the data\n",
    "\n",
    "def lin_func(d,m,c):\n",
    "    v = m*d + c\n",
    "    return v\n",
    "\n",
    "p_opt, p_cov = cf(lin_func,hl['Distance(Mpc)'], hl['vgsr'])\n",
    "\n",
    "plt.plot(hl['Distance(Mpc)'],lin_func(hl['Distance(Mpc)'],*p_opt),label='Best Fit',color='r')\n",
    "\n",
    "plt.scatter(hl['Distance(Mpc)'],hl['vgsr'],s=2, color = 'black')\n",
    "\n",
    "plt.title(\"Scatter Plot of line of sight velocity and distances of Galaxies and it's best fit.\",fontweight =\"bold\")\n",
    "\n",
    "plt.show()"
   ]
  },
  {
   "cell_type": "markdown",
   "id": "04f4a207",
   "metadata": {},
   "source": [
    "Step 4: Removing Outliers (OPTIONAL)\n",
    "\n",
    "As you can see, there are many points on the outskirts of the graph, which may affect out calulations of the slope and intercept unduly. Devise a way to remove those outliers to your satisfaction, and replot the remaining data points. There are multiple ways to do this, a few of them could be:\n",
    "\n",
    "1. Removing all points whose distances are 3$\\times$(Standard Deviation of Distance from Earth) away from the Mean Distance of all input galaxies from Earth. (or take any factor other than 3)\n",
    "\n",
    "2. Removing all points which are a certain distance away from the best fit line initially calculated (decide yourself what to set this distance as, could be a factor of the mean distance from the line for all points)."
   ]
  },
  {
   "cell_type": "code",
   "execution_count": 51,
   "id": "dd496492",
   "metadata": {},
   "outputs": [
    {
     "data": {
      "image/png": "[encoded data removed]",
      "text/plain": [
       "<Figure size 432x288 with 1 Axes>"
      ]
     },
     "metadata": {
      "needs_background": "light"
     },
     "output_type": "display_data"
    }
   ],
   "source": [
    "#Remove outliers and replot the improved data\n",
    "\n",
    "mu = hl['Distance(Mpc)'].mean(axis = 0)\n",
    "SD = hl['Distance(Mpc)'].std(axis = 0)       \n",
    "        \n",
    "hl.drop(hl[(hl['Distance(Mpc)'] > mu + factor * SD) | (hl['Distance(Mpc)'] < mu - factor * SD)].index, inplace=True)\n",
    "\n",
    "hl.drop(hl[(hl['vgsr'] > (p_opt[0] + dm)*hl['Distance(Mpc)'] + p_opt[1]) | (hl['vgsr'] < (p_opt[0] - dm)*hl['Distance(Mpc)'] + p_opt[1])].index, inplace=True)\n",
    "\n",
    "p_opt0, p_cov0 = cf(lin_func,hl['Distance(Mpc)'], hl['vgsr'])\n",
    "\n",
    "plt.plot(hl['Distance(Mpc)'],lin_func(hl['Distance(Mpc)'],*p_opt0),label='Best Fit',color='r')\n",
    "\n",
    "plt.scatter(hl['Distance(Mpc)'],hl['vgsr'],s=2, color = 'black')\n",
    "plt.title(\"Above Scatter plot with imporved data.\",fontweight =\"bold\")\n",
    "\n",
    "plt.show()"
   ]
  },
  {
   "cell_type": "markdown",
   "id": "7544278a",
   "metadata": {},
   "source": [
    "Step 5: Conclusion\n",
    "\n",
    "The slope of the graph (with recessional velocity in the y-axis and distance of the galaxy in the x-axis) gives us the Hubble Constant $H_0$ (in units km/s-Mpc). The reciprocal of the Hubble Constant is a good approximation for the age of the universe. Hence, find the age of the universe using your calculations."
   ]
  },
  {
   "cell_type": "code",
   "execution_count": 53,
   "id": "9ebed0cf",
   "metadata": {},
   "outputs": [
    {
     "name": "stdout",
     "output_type": "stream",
     "text": [
      "The Hubble Constant is 73.08270916821999 km/s-Mpc\n",
      "Age Of Our Universe is 13.683127122425422 Billion Years.\n"
     ]
    }
   ],
   "source": [
    "#Solution code\n",
    "\n",
    "H_o = p_opt0[0]\n",
    "\n",
    "print(\"The Hubble Constant is\", H_o, \"km/s-Mpc\")\n",
    "print(\"Age Of Our Universe is\", 1000/H_o, \"Billion Years.\")"
   ]
  },
  {
   "cell_type": "code",
   "execution_count": null,
   "id": "445e913b",
   "metadata": {},
   "outputs": [],
   "source": []
  }
 ],
 "metadata": {
  "kernelspec": {
   "display_name": "Python 3 (ipykernel)",
   "language": "python",
   "name": "python3"
  },
  "language_info": {
   "codemirror_mode": {
    "name": "ipython",
    "version": 3
   },
   "file_extension": ".py",
   "mimetype": "text/x-python",
   "name": "python",
   "nbconvert_exporter": "python",
   "pygments_lexer": "ipython3",
   "version": "3.9.12"
  }
 },
 "nbformat": 4,
 "nbformat_minor": 5
}
